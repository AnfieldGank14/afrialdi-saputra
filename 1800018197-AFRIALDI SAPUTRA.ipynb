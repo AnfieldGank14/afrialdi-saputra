{
  "nbformat": 4,
  "nbformat_minor": 0,
  "metadata": {
    "colab": {
      "name": "Untitled3.ipynb",
      "provenance": [],
      "toc_visible": true,
      "authorship_tag": "ABX9TyOxv0KfZ9pC4MwE4mtLrD7i",
      "include_colab_link": true
    },
    "kernelspec": {
      "name": "python3",
      "display_name": "Python 3"
    }
  },
  "cells": [
    {
      "cell_type": "markdown",
      "metadata": {
        "id": "view-in-github",
        "colab_type": "text"
      },
      "source": [
        "<a href=\"https://colab.research.google.com/github/AnfieldGank14/afrialdi-saputra/blob/master/1800018197-AFRIALDI%20SAPUTRA.ipynb\" target=\"_parent\"><img src=\"https://colab.research.google.com/assets/colab-badge.svg\" alt=\"Open In Colab\"/></a>"
      ]
    },
    {
      "cell_type": "markdown",
      "metadata": {
        "id": "Qo8mlkBAAfSG",
        "colab_type": "text"
      },
      "source": [
        "**Menghitung jumlah perbandingan pengunjung anak-anak diantara resort hotel dan city hotel berdasarkan tahun pemesanan.**\n",
        "\n",
        "NIM : 1800018197\n",
        "\n",
        "NAMA : AFRIALDI SAPUTRA"
      ]
    },
    {
      "cell_type": "code",
      "metadata": {
        "id": "oXy1jAIaAmis",
        "colab_type": "code",
        "colab": {
          "base_uri": "https://localhost:8080/",
          "height": 275
        },
        "outputId": "119b0fac-b890-401e-ede0-ce85a3932258"
      },
      "source": [
        "! apt-get install openjdk-8-jdk-headless -qq > /dev/null\n",
        "! wget -q https://downloads.apache.org/spark/spark-2.4.6/spark-2.4.6-bin-hadoop2.7.tgz\n",
        "! tar xf spark-2.4.6-bin-hadoop2.7.tgz\n",
        "! pip install -q findspark\n",
        "! pip install pyspark_dist_explore"
      ],
      "execution_count": 1,
      "outputs": [
        {
          "output_type": "stream",
          "text": [
            "Collecting pyspark_dist_explore\n",
            "  Downloading https://files.pythonhosted.org/packages/3c/33/2b6c29265413f2b56516caf02b8befbb6a79a1a3516d57bf1b0742a1be40/pyspark_dist_explore-0.1.8-py3-none-any.whl\n",
            "Requirement already satisfied: numpy in /usr/local/lib/python3.6/dist-packages (from pyspark_dist_explore) (1.18.5)\n",
            "Requirement already satisfied: matplotlib in /usr/local/lib/python3.6/dist-packages (from pyspark_dist_explore) (3.2.2)\n",
            "Requirement already satisfied: pandas in /usr/local/lib/python3.6/dist-packages (from pyspark_dist_explore) (1.0.5)\n",
            "Requirement already satisfied: scipy in /usr/local/lib/python3.6/dist-packages (from pyspark_dist_explore) (1.4.1)\n",
            "Requirement already satisfied: pyparsing!=2.0.4,!=2.1.2,!=2.1.6,>=2.0.1 in /usr/local/lib/python3.6/dist-packages (from matplotlib->pyspark_dist_explore) (2.4.7)\n",
            "Requirement already satisfied: kiwisolver>=1.0.1 in /usr/local/lib/python3.6/dist-packages (from matplotlib->pyspark_dist_explore) (1.2.0)\n",
            "Requirement already satisfied: python-dateutil>=2.1 in /usr/local/lib/python3.6/dist-packages (from matplotlib->pyspark_dist_explore) (2.8.1)\n",
            "Requirement already satisfied: cycler>=0.10 in /usr/local/lib/python3.6/dist-packages (from matplotlib->pyspark_dist_explore) (0.10.0)\n",
            "Requirement already satisfied: pytz>=2017.2 in /usr/local/lib/python3.6/dist-packages (from pandas->pyspark_dist_explore) (2018.9)\n",
            "Requirement already satisfied: six>=1.5 in /usr/local/lib/python3.6/dist-packages (from python-dateutil>=2.1->matplotlib->pyspark_dist_explore) (1.12.0)\n",
            "Installing collected packages: pyspark-dist-explore\n",
            "Successfully installed pyspark-dist-explore-0.1.8\n"
          ],
          "name": "stdout"
        }
      ]
    },
    {
      "cell_type": "code",
      "metadata": {
        "id": "JVSksngYBfHA",
        "colab_type": "code",
        "colab": {}
      },
      "source": [
        "import os\n",
        "os.environ[\"JAVA_HOME\"] = \"/usr/lib/jvm/java-8-openjdk-amd64\"\n",
        "os.environ[\"SPARK_HOME\"] = \"/content/spark-2.4.5-bin-hadoop2.7\""
      ],
      "execution_count": 2,
      "outputs": []
    },
    {
      "cell_type": "code",
      "metadata": {
        "id": "-g_SaFXTB3EE",
        "colab_type": "code",
        "colab": {}
      },
      "source": [
        "import findspark\n",
        "findspark.init(\"spark-2.4.6-bin-hadoop2.7\")# SPARK_HOME\n",
        "from pyspark.sql import SparkSession\n",
        "spark = SparkSession.builder.master(\"local[*]\").getOrCreate()\n",
        "from pyspark.sql.functions import col, avg\n",
        "from matplotlib import pyplot as plt\n",
        "from pyspark_dist_explore import Histogram, hist"
      ],
      "execution_count": 3,
      "outputs": []
    },
    {
      "cell_type": "code",
      "metadata": {
        "id": "z0pXTmzcB-98",
        "colab_type": "code",
        "colab": {}
      },
      "source": [
        "sc = spark.sparkContext\n",
        "spark = SparkSession(sc)"
      ],
      "execution_count": 4,
      "outputs": []
    },
    {
      "cell_type": "markdown",
      "metadata": {
        "id": "EnzngsxyCAwk",
        "colab_type": "text"
      },
      "source": [
        "**LOAD DATASET**"
      ]
    },
    {
      "cell_type": "code",
      "metadata": {
        "id": "SxrL8ORrCCzx",
        "colab_type": "code",
        "colab": {
          "base_uri": "https://localhost:8080/",
          "height": 595
        },
        "outputId": "a33a6a56-9b7b-4eb2-c8d2-8f2daa97b207"
      },
      "source": [
        "data = spark.read.csv('hotel_bookings.csv', header=True, inferSchema=True)\n",
        "data.printSchema()"
      ],
      "execution_count": 6,
      "outputs": [
        {
          "output_type": "stream",
          "text": [
            "root\n",
            " |-- hotel: string (nullable = true)\n",
            " |-- is_canceled: integer (nullable = true)\n",
            " |-- lead_time: integer (nullable = true)\n",
            " |-- arrival_date_year: integer (nullable = true)\n",
            " |-- arrival_date_month: string (nullable = true)\n",
            " |-- arrival_date_week_number: integer (nullable = true)\n",
            " |-- arrival_date_day_of_month: integer (nullable = true)\n",
            " |-- stays_in_weekend_nights: integer (nullable = true)\n",
            " |-- stays_in_week_nights: integer (nullable = true)\n",
            " |-- adults: integer (nullable = true)\n",
            " |-- children: string (nullable = true)\n",
            " |-- babies: integer (nullable = true)\n",
            " |-- meal: string (nullable = true)\n",
            " |-- country: string (nullable = true)\n",
            " |-- market_segment: string (nullable = true)\n",
            " |-- distribution_channel: string (nullable = true)\n",
            " |-- is_repeated_guest: integer (nullable = true)\n",
            " |-- previous_cancellations: integer (nullable = true)\n",
            " |-- previous_bookings_not_canceled: integer (nullable = true)\n",
            " |-- reserved_room_type: string (nullable = true)\n",
            " |-- assigned_room_type: string (nullable = true)\n",
            " |-- booking_changes: integer (nullable = true)\n",
            " |-- deposit_type: string (nullable = true)\n",
            " |-- agent: string (nullable = true)\n",
            " |-- company: string (nullable = true)\n",
            " |-- days_in_waiting_list: integer (nullable = true)\n",
            " |-- customer_type: string (nullable = true)\n",
            " |-- adr: double (nullable = true)\n",
            " |-- required_car_parking_spaces: integer (nullable = true)\n",
            " |-- total_of_special_requests: integer (nullable = true)\n",
            " |-- reservation_status: string (nullable = true)\n",
            " |-- reservation_status_date: timestamp (nullable = true)\n",
            "\n"
          ],
          "name": "stdout"
        }
      ]
    },
    {
      "cell_type": "markdown",
      "metadata": {
        "id": "m68MXyyUC8Il",
        "colab_type": "text"
      },
      "source": [
        "**1. PROSES EDA (Exploratory Data Analysis)**"
      ]
    },
    {
      "cell_type": "markdown",
      "metadata": {
        "id": "EdzPgPo8DGVl",
        "colab_type": "text"
      },
      "source": [
        "A. MENAMPILKAN JUMLAH PENGUNJUNG HOTEL"
      ]
    },
    {
      "cell_type": "code",
      "metadata": {
        "id": "26ihYmLZDSp3",
        "colab_type": "code",
        "colab": {
          "base_uri": "https://localhost:8080/",
          "height": 34
        },
        "outputId": "d1c8433d-1f0c-4c4f-f230-d6e02addb857"
      },
      "source": [
        "print(\"DATA PENGUNJUNG HOTEL : \", data.count())"
      ],
      "execution_count": 7,
      "outputs": [
        {
          "output_type": "stream",
          "text": [
            "DATA PENGUNJUNG HOTEL :  43917\n"
          ],
          "name": "stdout"
        }
      ]
    },
    {
      "cell_type": "markdown",
      "metadata": {
        "id": "UbWzr9wIDVBw",
        "colab_type": "text"
      },
      "source": [
        "B. MELIHAT 10 DATA PENGUNJUNG TERATAS"
      ]
    },
    {
      "cell_type": "code",
      "metadata": {
        "id": "v8e_DQfXDav1",
        "colab_type": "code",
        "colab": {
          "base_uri": "https://localhost:8080/",
          "height": 309
        },
        "outputId": "c95e8b0d-cc49-4415-fe14-9b0ab3f32b7c"
      },
      "source": [
        "data.show(10)\n"
      ],
      "execution_count": 8,
      "outputs": [
        {
          "output_type": "stream",
          "text": [
            "+------------+-----------+---------+-----------------+------------------+------------------------+-------------------------+-----------------------+--------------------+------+--------+------+----+-------+--------------+--------------------+-----------------+----------------------+------------------------------+------------------+------------------+---------------+------------+-----+-------+--------------------+-------------+-----+---------------------------+-------------------------+------------------+-----------------------+\n",
            "|       hotel|is_canceled|lead_time|arrival_date_year|arrival_date_month|arrival_date_week_number|arrival_date_day_of_month|stays_in_weekend_nights|stays_in_week_nights|adults|children|babies|meal|country|market_segment|distribution_channel|is_repeated_guest|previous_cancellations|previous_bookings_not_canceled|reserved_room_type|assigned_room_type|booking_changes|deposit_type|agent|company|days_in_waiting_list|customer_type|  adr|required_car_parking_spaces|total_of_special_requests|reservation_status|reservation_status_date|\n",
            "+------------+-----------+---------+-----------------+------------------+------------------------+-------------------------+-----------------------+--------------------+------+--------+------+----+-------+--------------+--------------------+-----------------+----------------------+------------------------------+------------------+------------------+---------------+------------+-----+-------+--------------------+-------------+-----+---------------------------+-------------------------+------------------+-----------------------+\n",
            "|Resort Hotel|          0|      342|             2015|              July|                      27|                        1|                      0|                   0|     2|       0|     0|  BB|    PRT|        Direct|              Direct|                0|                     0|                             0|                 C|                 C|              3|  No Deposit| NULL|   NULL|                   0|    Transient|  0.0|                          0|                        0|         Check-Out|    2015-07-01 00:00:00|\n",
            "|Resort Hotel|          0|      737|             2015|              July|                      27|                        1|                      0|                   0|     2|       0|     0|  BB|    PRT|        Direct|              Direct|                0|                     0|                             0|                 C|                 C|              4|  No Deposit| NULL|   NULL|                   0|    Transient|  0.0|                          0|                        0|         Check-Out|    2015-07-01 00:00:00|\n",
            "|Resort Hotel|          0|        7|             2015|              July|                      27|                        1|                      0|                   1|     1|       0|     0|  BB|    GBR|        Direct|              Direct|                0|                     0|                             0|                 A|                 C|              0|  No Deposit| NULL|   NULL|                   0|    Transient| 75.0|                          0|                        0|         Check-Out|    2015-07-02 00:00:00|\n",
            "|Resort Hotel|          0|       13|             2015|              July|                      27|                        1|                      0|                   1|     1|       0|     0|  BB|    GBR|     Corporate|           Corporate|                0|                     0|                             0|                 A|                 A|              0|  No Deposit|  304|   NULL|                   0|    Transient| 75.0|                          0|                        0|         Check-Out|    2015-07-02 00:00:00|\n",
            "|Resort Hotel|          0|       14|             2015|              July|                      27|                        1|                      0|                   2|     2|       0|     0|  BB|    GBR|     Online TA|               TA/TO|                0|                     0|                             0|                 A|                 A|              0|  No Deposit|  240|   NULL|                   0|    Transient| 98.0|                          0|                        1|         Check-Out|    2015-07-03 00:00:00|\n",
            "|Resort Hotel|          0|       14|             2015|              July|                      27|                        1|                      0|                   2|     2|       0|     0|  BB|    GBR|     Online TA|               TA/TO|                0|                     0|                             0|                 A|                 A|              0|  No Deposit|  240|   NULL|                   0|    Transient| 98.0|                          0|                        1|         Check-Out|    2015-07-03 00:00:00|\n",
            "|Resort Hotel|          0|        0|             2015|              July|                      27|                        1|                      0|                   2|     2|       0|     0|  BB|    PRT|        Direct|              Direct|                0|                     0|                             0|                 C|                 C|              0|  No Deposit| NULL|   NULL|                   0|    Transient|107.0|                          0|                        0|         Check-Out|    2015-07-03 00:00:00|\n",
            "|Resort Hotel|          0|        9|             2015|              July|                      27|                        1|                      0|                   2|     2|       0|     0|  FB|    PRT|        Direct|              Direct|                0|                     0|                             0|                 C|                 C|              0|  No Deposit|  303|   NULL|                   0|    Transient|103.0|                          0|                        1|         Check-Out|    2015-07-03 00:00:00|\n",
            "|Resort Hotel|          1|       85|             2015|              July|                      27|                        1|                      0|                   3|     2|       0|     0|  BB|    PRT|     Online TA|               TA/TO|                0|                     0|                             0|                 A|                 A|              0|  No Deposit|  240|   NULL|                   0|    Transient| 82.0|                          0|                        1|          Canceled|    2015-05-06 00:00:00|\n",
            "|Resort Hotel|          1|       75|             2015|              July|                      27|                        1|                      0|                   3|     2|       0|     0|  HB|    PRT| Offline TA/TO|               TA/TO|                0|                     0|                             0|                 D|                 D|              0|  No Deposit|   15|   NULL|                   0|    Transient|105.5|                          0|                        0|          Canceled|    2015-04-22 00:00:00|\n",
            "+------------+-----------+---------+-----------------+------------------+------------------------+-------------------------+-----------------------+--------------------+------+--------+------+----+-------+--------------+--------------------+-----------------+----------------------+------------------------------+------------------+------------------+---------------+------------+-----+-------+--------------------+-------------+-----+---------------------------+-------------------------+------------------+-----------------------+\n",
            "only showing top 10 rows\n",
            "\n"
          ],
          "name": "stdout"
        }
      ]
    },
    {
      "cell_type": "markdown",
      "metadata": {
        "id": "VkJ8_GnvDjXj",
        "colab_type": "text"
      },
      "source": [
        "C. STATISTIK DATA PENGUNJUNG HOTEL"
      ]
    },
    {
      "cell_type": "code",
      "metadata": {
        "id": "bk2W5rzFDkDS",
        "colab_type": "code",
        "colab": {
          "base_uri": "https://localhost:8080/",
          "height": 207
        },
        "outputId": "e1b5f3dc-83d1-4178-ed27-13b1a9e34f6e"
      },
      "source": [
        "data.describe().show()"
      ],
      "execution_count": 9,
      "outputs": [
        {
          "output_type": "stream",
          "text": [
            "+-------+------------+-------------------+-----------------+------------------+------------------+------------------------+-------------------------+-----------------------+--------------------+------------------+-------------------+--------------------+---------+-------+--------------+--------------------+-------------------+----------------------+------------------------------+------------------+------------------+-------------------+------------+------------------+------------------+--------------------+---------------+------------------+---------------------------+-------------------------+------------------+\n",
            "|summary|       hotel|        is_canceled|        lead_time| arrival_date_year|arrival_date_month|arrival_date_week_number|arrival_date_day_of_month|stays_in_weekend_nights|stays_in_week_nights|            adults|           children|              babies|     meal|country|market_segment|distribution_channel|  is_repeated_guest|previous_cancellations|previous_bookings_not_canceled|reserved_room_type|assigned_room_type|    booking_changes|deposit_type|             agent|           company|days_in_waiting_list|  customer_type|               adr|required_car_parking_spaces|total_of_special_requests|reservation_status|\n",
            "+-------+------------+-------------------+-----------------+------------------+------------------+------------------------+-------------------------+-----------------------+--------------------+------------------+-------------------+--------------------+---------+-------+--------------+--------------------+-------------------+----------------------+------------------------------+------------------+------------------+-------------------+------------+------------------+------------------+--------------------+---------------+------------------+---------------------------+-------------------------+------------------+\n",
            "|  count|       43917|              43917|            43917|             43917|             43917|                   43917|                    43917|                  43917|               43917|             43917|              43917|               43917|    43917|  43917|         43917|               43917|              43917|                 43917|                         43917|             43917|             43917|              43917|       43917|             43917|             43917|               43917|          43917|             43917|                      43917|                    43917|             43917|\n",
            "|   mean|        null| 0.2805064098185213|88.74214996470614|2016.0229523874582|              null|      27.816494751462987|       15.758066352437552|     1.1579115149031127|   3.033882095771569|1.8645399275906824|0.12262883428597454|0.013229501104355943|     null|   null|          null|                null| 0.0404854612109206|    0.0927886695357151|            0.1335929139057768|              null|              null|0.27788783386843363|        null|197.28811157095075| 231.1935385553185|  0.5292255846255436|           null| 94.37695789785242|         0.1273538720768723|       0.6017032128788397|              null|\n",
            "| stddev|        null|0.44925177742465444|94.68343525939157|0.7594152619359759|              null|      13.581790276858056|         8.79393962083507|     1.1338176582261963|  2.4047649032590623|0.6780951314637194| 0.4359777535063266|   0.116037287368347|     null|   null|          null|                null|0.19709711617026895|    1.2754637126172363|            0.9578417629436207|              null|              null| 0.7157273348802834|        null|104.24241858916616|130.15394508677645|   7.237852213684649|           null|59.609207918771475|         0.3390617627870889|       0.8098552803937483|              null|\n",
            "|    min|  City Hotel|                  0|                0|              2015|             April|                       1|                        1|                      0|                   0|                 0|                  0|                   0|       BB|    AGO| Complementary|           Corporate|                  0|                     0|                             0|                 A|                 A|                  0|  No Deposit|                 1|                10|                   0|       Contract|             -6.38|                          0|                        0|          Canceled|\n",
            "|    max|Resort Hotel|                  1|              737|              2017|         September|                      53|                       31|                     19|                  50|                55|                 NA|                   2|Undefined|    ZWE|     Undefined|           Undefined|                  1|                    26|                            30|                 P|                 P|                 20|  Refundable|              NULL|              NULL|                 185|Transient-Party|             508.0|                          8|                        5|           No-Show|\n",
            "+-------+------------+-------------------+-----------------+------------------+------------------+------------------------+-------------------------+-----------------------+--------------------+------------------+-------------------+--------------------+---------+-------+--------------+--------------------+-------------------+----------------------+------------------------------+------------------+------------------+-------------------+------------+------------------+------------------+--------------------+---------------+------------------+---------------------------+-------------------------+------------------+\n",
            "\n"
          ],
          "name": "stdout"
        }
      ]
    },
    {
      "cell_type": "markdown",
      "metadata": {
        "id": "NDpz7WLCD2-J",
        "colab_type": "text"
      },
      "source": [
        "D. PERSEBARAN DATA PADA MASING-MASING KOLOM"
      ]
    },
    {
      "cell_type": "code",
      "metadata": {
        "id": "1U4jlqZaD6nt",
        "colab_type": "code",
        "colab": {}
      },
      "source": [
        "data_hotel = data.select('hotel')\n",
        "# fig, axes = plt.subplots()\n",
        "# fig.set_size_inches(5, 5)\n",
        "# hist(axes, data_hotel, bins=20, color=\"red\")\n",
        "# plt.show()"
      ],
      "execution_count": 11,
      "outputs": []
    },
    {
      "cell_type": "code",
      "metadata": {
        "id": "bwz5yPfMFDdf",
        "colab_type": "code",
        "colab": {
          "base_uri": "https://localhost:8080/",
          "height": 334
        },
        "outputId": "84732501-2993-4065-f0f0-6e1c16ba0517"
      },
      "source": [
        "data_babies = data.select('babies')\n",
        "\n",
        "fig, axes = plt.subplots()\n",
        "fig.set_size_inches(8, 5)\n",
        "hist(axes, data_babies, color=\"red\")\n",
        "plt.xlabel('Persebaran Data babies (babies)')\n",
        "plt.ylabel('jumlah')\n",
        "\n",
        "plt.show()"
      ],
      "execution_count": 77,
      "outputs": [
        {
          "output_type": "display_data",
          "data": {
            "image/png": "[encoded data removed]",
            "text/plain": [
              "<Figure size 576x360 with 1 Axes>"
            ]
          },
          "metadata": {
            "tags": [],
            "needs_background": "light"
          }
        }
      ]
    },
    {
      "cell_type": "markdown",
      "metadata": {
        "id": "5k-XyMiEF4PB",
        "colab_type": "text"
      },
      "source": [
        "E. MENGECEK APAKAH DATA ADA YANG NULL"
      ]
    },
    {
      "cell_type": "code",
      "metadata": {
        "id": "eJoCa9giF7y2",
        "colab_type": "code",
        "colab": {
          "base_uri": "https://localhost:8080/",
          "height": 544
        },
        "outputId": "ffa76834-f9a4-47a0-9df6-ca4615b75b8a"
      },
      "source": [
        "table = ['hotel', 'is_canceled', 'lead_time', 'arrival_date_year', 'arrival_date_month', 'arrival_date_week_number', 'arrival_date_day_of_month','stays_in_weekend_nights','stays_in_week_nights','adults','children','babies','meal','country','market_segment','distribution_channel','is_repeated_guest','previous_cancellations','previous_bookings_not_canceled','reserved_room_type','assigned_room_type','deposit_type','agent','company','days_in_waiting_list','customer_type','adr','required_car_parking_spaces','total_of_special_requests','reservation_status','reservation_status_date']\n",
        "\n",
        "for kolom in table:\n",
        "  print('jumlah data yang bernilai null pada colom ', kolom, ' : ', data.where(col(kolom).isNull()).count())"
      ],
      "execution_count": 17,
      "outputs": [
        {
          "output_type": "stream",
          "text": [
            "jumlah data yang bernilai null pada colom  hotel  :  0\n",
            "jumlah data yang bernilai null pada colom  is_canceled  :  0\n",
            "jumlah data yang bernilai null pada colom  lead_time  :  0\n",
            "jumlah data yang bernilai null pada colom  arrival_date_year  :  0\n",
            "jumlah data yang bernilai null pada colom  arrival_date_month  :  0\n",
            "jumlah data yang bernilai null pada colom  arrival_date_week_number  :  0\n",
            "jumlah data yang bernilai null pada colom  arrival_date_day_of_month  :  0\n",
            "jumlah data yang bernilai null pada colom  stays_in_weekend_nights  :  0\n",
            "jumlah data yang bernilai null pada colom  stays_in_week_nights  :  0\n",
            "jumlah data yang bernilai null pada colom  adults  :  0\n",
            "jumlah data yang bernilai null pada colom  children  :  0\n",
            "jumlah data yang bernilai null pada colom  babies  :  0\n",
            "jumlah data yang bernilai null pada colom  meal  :  0\n",
            "jumlah data yang bernilai null pada colom  country  :  0\n",
            "jumlah data yang bernilai null pada colom  market_segment  :  0\n",
            "jumlah data yang bernilai null pada colom  distribution_channel  :  0\n",
            "jumlah data yang bernilai null pada colom  is_repeated_guest  :  0\n",
            "jumlah data yang bernilai null pada colom  previous_cancellations  :  0\n",
            "jumlah data yang bernilai null pada colom  previous_bookings_not_canceled  :  0\n",
            "jumlah data yang bernilai null pada colom  reserved_room_type  :  0\n",
            "jumlah data yang bernilai null pada colom  assigned_room_type  :  0\n",
            "jumlah data yang bernilai null pada colom  deposit_type  :  0\n",
            "jumlah data yang bernilai null pada colom  agent  :  0\n",
            "jumlah data yang bernilai null pada colom  company  :  0\n",
            "jumlah data yang bernilai null pada colom  days_in_waiting_list  :  0\n",
            "jumlah data yang bernilai null pada colom  customer_type  :  0\n",
            "jumlah data yang bernilai null pada colom  adr  :  0\n",
            "jumlah data yang bernilai null pada colom  required_car_parking_spaces  :  0\n",
            "jumlah data yang bernilai null pada colom  total_of_special_requests  :  0\n",
            "jumlah data yang bernilai null pada colom  reservation_status  :  0\n",
            "jumlah data yang bernilai null pada colom  reservation_status_date  :  0\n"
          ],
          "name": "stdout"
        }
      ]
    },
    {
      "cell_type": "markdown",
      "metadata": {
        "id": "U6XUvDwfGL7j",
        "colab_type": "text"
      },
      "source": [
        "Tidak ditemukan data null, jadi bisa lanjut ke proses selanjutnya."
      ]
    },
    {
      "cell_type": "markdown",
      "metadata": {
        "id": "z7eqzG11GTs-",
        "colab_type": "text"
      },
      "source": [
        "**2. PROCESSING DATA**"
      ]
    },
    {
      "cell_type": "code",
      "metadata": {
        "id": "dS_63kOgGRkX",
        "colab_type": "code",
        "colab": {
          "base_uri": "https://localhost:8080/",
          "height": 459
        },
        "outputId": "a98b515e-9392-4d94-e442-af2a664c877b"
      },
      "source": [
        "data_hotel = data.select('hotel', 'arrival_date_year', 'children', 'adults')\n",
        "data_hotel.show(20)"
      ],
      "execution_count": 66,
      "outputs": [
        {
          "output_type": "stream",
          "text": [
            "+------------+-----------------+--------+------+\n",
            "|       hotel|arrival_date_year|children|adults|\n",
            "+------------+-----------------+--------+------+\n",
            "|Resort Hotel|             2015|       0|     2|\n",
            "|Resort Hotel|             2015|       0|     2|\n",
            "|Resort Hotel|             2015|       0|     1|\n",
            "|Resort Hotel|             2015|       0|     1|\n",
            "|Resort Hotel|             2015|       0|     2|\n",
            "|Resort Hotel|             2015|       0|     2|\n",
            "|Resort Hotel|             2015|       0|     2|\n",
            "|Resort Hotel|             2015|       0|     2|\n",
            "|Resort Hotel|             2015|       0|     2|\n",
            "|Resort Hotel|             2015|       0|     2|\n",
            "|Resort Hotel|             2015|       0|     2|\n",
            "|Resort Hotel|             2015|       0|     2|\n",
            "|Resort Hotel|             2015|       0|     2|\n",
            "|Resort Hotel|             2015|       1|     2|\n",
            "|Resort Hotel|             2015|       0|     2|\n",
            "|Resort Hotel|             2015|       0|     2|\n",
            "|Resort Hotel|             2015|       0|     2|\n",
            "|Resort Hotel|             2015|       0|     2|\n",
            "|Resort Hotel|             2015|       0|     2|\n",
            "|Resort Hotel|             2015|       0|     2|\n",
            "+------------+-----------------+--------+------+\n",
            "only showing top 20 rows\n",
            "\n"
          ],
          "name": "stdout"
        }
      ]
    },
    {
      "cell_type": "markdown",
      "metadata": {
        "id": "FA07XeMTGfJW",
        "colab_type": "text"
      },
      "source": [
        "**3. PEMROSESAN DATA**"
      ]
    },
    {
      "cell_type": "markdown",
      "metadata": {
        "id": "I-rxJFHjGvj7",
        "colab_type": "text"
      },
      "source": [
        "Disini, akan dilakukan perbandingan pengunjung anak-anak di Resort Hotel dan City Hotel"
      ]
    },
    {
      "cell_type": "markdown",
      "metadata": {
        "id": "girMse2-Gq0W",
        "colab_type": "text"
      },
      "source": [
        "**HOTEL**"
      ]
    },
    {
      "cell_type": "code",
      "metadata": {
        "id": "olfc-QgbVN4f",
        "colab_type": "code",
        "colab": {
          "base_uri": "https://localhost:8080/",
          "height": 1000
        },
        "outputId": "656d606e-cd27-4f1f-a6c1-6199c71fd8f3"
      },
      "source": [
        "ResortHotel = data.filter(data.hotel == 'Resort Hotel')\n",
        "cityHotel = data.filter(data.hotel == 'City Hotel')\n",
        "\n",
        "resort_hotel_children = ResortHotel.filter(ResortHotel.children > 0)\n",
        "resort_hotel_children.show()\n",
        "\n",
        "resort_city_children = cityHotel.filter(cityHotel.children > 0)\n",
        "resort_city_children.show()\n",
        "\n",
        "#membuat table (view)\n",
        "resort_hotel_children.createOrReplaceTempView(\"RH\")\n",
        "resort_city_children.createOrReplaceTempView(\"CH\")\n",
        "\n",
        "jumlah = spark.sql(\"SELECT COUNT(children) FROM RH\").show()\n",
        "jumlah2 = spark.sql(\"SELECT COUNT(children) FROM CH\").show()"
      ],
      "execution_count": 71,
      "outputs": [
        {
          "output_type": "stream",
          "text": [
            "+------------+-----------+---------+-----------------+------------------+------------------------+-------------------------+-----------------------+--------------------+------+--------+------+----+-------+--------------+--------------------+-----------------+----------------------+------------------------------+------------------+------------------+---------------+------------+-----+-------+--------------------+-------------+------+---------------------------+-------------------------+------------------+-----------------------+\n",
            "|       hotel|is_canceled|lead_time|arrival_date_year|arrival_date_month|arrival_date_week_number|arrival_date_day_of_month|stays_in_weekend_nights|stays_in_week_nights|adults|children|babies|meal|country|market_segment|distribution_channel|is_repeated_guest|previous_cancellations|previous_bookings_not_canceled|reserved_room_type|assigned_room_type|booking_changes|deposit_type|agent|company|days_in_waiting_list|customer_type|   adr|required_car_parking_spaces|total_of_special_requests|reservation_status|reservation_status_date|\n",
            "+------------+-----------+---------+-----------------+------------------+------------------------+-------------------------+-----------------------+--------------------+------+--------+------+----+-------+--------------+--------------------+-----------------+----------------------+------------------------------+------------------+------------------+---------------+------------+-----+-------+--------------------+-------------+------+---------------------------+-------------------------+------------------+-----------------------+\n",
            "|Resort Hotel|          0|       18|             2015|              July|                      27|                        1|                      0|                   4|     2|       1|     0|  HB|    ESP|     Online TA|               TA/TO|                0|                     0|                             0|                 G|                 G|              1|  No Deposit|  241|   NULL|                   0|    Transient|154.77|                          0|                        1|         Check-Out|    2015-07-05 00:00:00|\n",
            "|Resort Hotel|          1|       47|             2015|              July|                      27|                        2|                      2|                   5|     2|       2|     0|  BB|    PRT|     Online TA|               TA/TO|                0|                     0|                             0|                 G|                 G|              0|  No Deposit|  240|   NULL|                   0|    Transient| 153.0|                          0|                        0|          Canceled|    2015-06-02 00:00:00|\n",
            "|Resort Hotel|          0|        1|             2015|              July|                      27|                        2|                      0|                   1|     2|       2|     0|  BB|    ESP|        Direct|              Direct|                0|                     0|                             0|                 C|                 C|              0|  No Deposit| NULL|   NULL|                   0|    Transient| 107.0|                          1|                        2|         Check-Out|    2015-07-03 00:00:00|\n",
            "|Resort Hotel|          0|       10|             2015|              July|                      27|                        3|                      0|                   2|     2|       2|     0|  BB|    USA|     Online TA|               TA/TO|                0|                     0|                             0|                 G|                 H|              0|  No Deposit|  240|   NULL|                   0|    Transient| 153.0|                          1|                        0|         Check-Out|    2015-07-05 00:00:00|\n",
            "|Resort Hotel|          1|       79|             2015|              July|                      27|                        3|                      6|                  15|     2|       1|     0|  BB|    PRT| Offline TA/TO|               TA/TO|                0|                     0|                             0|                 A|                 A|              0|  No Deposit|  242|   NULL|                   0|    Transient|108.73|                          0|                        2|          Canceled|    2015-04-15 00:00:00|\n",
            "|Resort Hotel|          0|      101|             2015|              July|                      27|                        3|                      2|                   5|     2|       1|     0|  BB|    PRT|     Online TA|               TA/TO|                0|                     0|                             0|                 D|                 D|              0|  No Deposit|  240|   NULL|                   0|    Transient|  99.3|                          1|                        2|         Check-Out|    2015-07-10 00:00:00|\n",
            "|Resort Hotel|          0|       92|             2015|              July|                      27|                        4|                      2|                   4|     1|       2|     0|  BB|    FRA| Offline TA/TO|               TA/TO|                0|                     0|                             0|                 F|                 F|              0|  No Deposit|  241|   NULL|                   0|    Transient| 96.49|                          0|                        2|         Check-Out|    2015-07-10 00:00:00|\n",
            "|Resort Hotel|          1|       26|             2015|              July|                      27|                        4|                      2|                   5|     2|       2|     0|  BB|    PRT|     Online TA|               TA/TO|                0|                     0|                             0|                 H|                 H|              0|  No Deposit|  240|   NULL|                   0|    Transient| 163.0|                          0|                        0|          Canceled|    2015-06-09 00:00:00|\n",
            "|Resort Hotel|          0|       79|             2015|              July|                      27|                        4|                      4|                   6|     2|       1|     0|  HB|    PRT|        Direct|              Direct|                0|                     0|                             0|                 D|                 D|              1|  No Deposit|  250|   NULL|                   0|    Transient| 149.0|                          0|                        1|         Check-Out|    2015-07-14 00:00:00|\n",
            "|Resort Hotel|          0|        2|             2015|              July|                      27|                        4|                      0|                   1|     2|       2|     0|  BB|    PRT|     Online TA|               TA/TO|                0|                     0|                             0|                 H|                 G|              1|  No Deposit|  240|   NULL|                   0|    Transient| 163.0|                          1|                        0|         Check-Out|    2015-07-05 00:00:00|\n",
            "|Resort Hotel|          0|      109|             2015|              July|                      28|                        5|                      2|                   3|     2|       1|     0|  BB|     CN| Offline TA/TO|               TA/TO|                0|                     0|                             0|                 A|                 D|              0|  No Deposit|  241|   NULL|                   0|    Transient| 85.59|                          1|                        2|         Check-Out|    2015-07-10 00:00:00|\n",
            "|Resort Hotel|          1|       34|             2015|              July|                      28|                        5|                      2|                   4|     2|       2|     0|  BB|    PRT|     Online TA|               TA/TO|                0|                     0|                             0|                 H|                 H|              0|  No Deposit|  240|   NULL|                   0|    Transient| 163.0|                          0|                        0|          Canceled|    2015-06-17 00:00:00|\n",
            "|Resort Hotel|          0|       97|             2015|              July|                      28|                        5|                      2|                   5|     2|       2|     0|  HB|    PRT|        Direct|              Direct|                0|                     0|                             0|                 C|                 C|              1|  No Deposit|  250|   NULL|                   0|    Transient| 164.2|                          1|                        1|         Check-Out|    2015-07-12 00:00:00|\n",
            "|Resort Hotel|          0|        8|             2015|              July|                      28|                        5|                      4|                   5|     2|       2|     0|  BB|    CHE|     Online TA|               TA/TO|                0|                     0|                             0|                 H|                 H|              1|  No Deposit|  240|   NULL|                   0|    Transient| 175.0|                          1|                        1|         Check-Out|    2015-07-14 00:00:00|\n",
            "|Resort Hotel|          0|      115|             2015|              July|                      28|                        6|                      1|                   4|     2|       2|     0|  BB|    PRT|     Online TA|               TA/TO|                0|                     0|                             0|                 G|                 G|              1|  No Deposit|  240|   NULL|                   0|    Transient| 167.0|                          0|                        0|         Check-Out|    2015-07-11 00:00:00|\n",
            "|Resort Hotel|          0|       81|             2015|              July|                      28|                        6|                      1|                   3|     2|       2|     0|  HB|    CHE|        Direct|              Direct|                0|                     0|                             0|                 G|                 G|              0|  No Deposit|  250|   NULL|                   0|    Transient| 210.0|                          1|                        0|         Check-Out|    2015-07-10 00:00:00|\n",
            "|Resort Hotel|          0|        2|             2015|              July|                      28|                        6|                      1|                   0|     2|       1|     0|  BB|    PRT|        Direct|              Direct|                0|                     0|                             0|                 A|                 E|              0|  No Deposit| NULL|   NULL|                   0|    Transient| 131.0|                          0|                        0|         Check-Out|    2015-07-07 00:00:00|\n",
            "|Resort Hotel|          0|       68|             2015|              July|                      28|                        6|                      2|                   5|     2|       2|     0|  HB|    PRT|     Online TA|               TA/TO|                0|                     0|                             0|                 G|                 G|              0|  No Deposit|  240|   NULL|                   0|    Transient| 185.0|                          0|                        0|         Check-Out|    2015-07-13 00:00:00|\n",
            "|Resort Hotel|          0|       21|             2015|              July|                      28|                        7|                      0|                   3|     2|       1|     0|  HB|    PRT|        Direct|              Direct|                0|                     0|                             0|                 F|                 F|              0|  No Deposit|  250|   NULL|                   0|    Transient| 185.5|                          0|                        1|         Check-Out|    2015-07-10 00:00:00|\n",
            "|Resort Hotel|          0|        8|             2015|              July|                      28|                        7|                      0|                   4|     3|       2|     0|  BB|    ESP|     Online TA|               TA/TO|                0|                     0|                             0|                 H|                 H|              2|  No Deposit|  240|   NULL|                   0|    Transient| 193.0|                          0|                        1|         Check-Out|    2015-07-11 00:00:00|\n",
            "+------------+-----------+---------+-----------------+------------------+------------------------+-------------------------+-----------------------+--------------------+------+--------+------+----+-------+--------------+--------------------+-----------------+----------------------+------------------------------+------------------+------------------+---------------+------------+-----+-------+--------------------+-------------+------+---------------------------+-------------------------+------------------+-----------------------+\n",
            "only showing top 20 rows\n",
            "\n",
            "+----------+-----------+---------+-----------------+------------------+------------------------+-------------------------+-----------------------+--------------------+------+--------+------+----+-------+--------------+--------------------+-----------------+----------------------+------------------------------+------------------+------------------+---------------+------------+-----+-------+--------------------+---------------+------+---------------------------+-------------------------+------------------+-----------------------+\n",
            "|     hotel|is_canceled|lead_time|arrival_date_year|arrival_date_month|arrival_date_week_number|arrival_date_day_of_month|stays_in_weekend_nights|stays_in_week_nights|adults|children|babies|meal|country|market_segment|distribution_channel|is_repeated_guest|previous_cancellations|previous_bookings_not_canceled|reserved_room_type|assigned_room_type|booking_changes|deposit_type|agent|company|days_in_waiting_list|  customer_type|   adr|required_car_parking_spaces|total_of_special_requests|reservation_status|reservation_status_date|\n",
            "+----------+-----------+---------+-----------------+------------------+------------------------+-------------------------+-----------------------+--------------------+------+--------+------+----+-------+--------------+--------------------+-----------------+----------------------+------------------------------+------------------+------------------+---------------+------------+-----+-------+--------------------+---------------+------+---------------------------+-------------------------+------------------+-----------------------+\n",
            "|City Hotel|          0|       69|             2015|              July|                      28|                        7|                      0|                   2|     2|       1|     0|  BB|    PRT| Offline TA/TO|               TA/TO|                0|                     0|                             0|                 A|                 A|              0|  No Deposit|   13|   NULL|                   0|      Transient| 76.08|                          0|                        0|         Check-Out|    2015-07-09 00:00:00|\n",
            "|City Hotel|          0|       67|             2015|              July|                      28|                       10|                      2|                   3|     2|       2|     0|  BB|    PRT| Offline TA/TO|               TA/TO|                0|                     0|                             0|                 A|                 A|              1|  No Deposit|   22|   NULL|                   0|      Transient|106.25|                          0|                        0|         Check-Out|    2015-07-15 00:00:00|\n",
            "|City Hotel|          1|       60|             2015|              July|                      29|                       13|                      1|                   0|     2|       1|     0|  BB|    PRT|        Direct|              Direct|                0|                     0|                             0|                 A|                 A|              0|  No Deposit|   14|   NULL|                   0|      Transient| 91.33|                          0|                        0|           No-Show|    2015-07-13 00:00:00|\n",
            "|City Hotel|          0|        0|             2015|              July|                      30|                       24|                      0|                   2|     2|       1|     0|  BB|    PRT|        Direct|              Direct|                0|                     0|                             0|                 D|                 F|              0|  No Deposit| NULL|   NULL|                   0|      Transient|   0.0|                          0|                        1|         Check-Out|    2015-07-26 00:00:00|\n",
            "|City Hotel|          0|        0|             2015|              July|                      30|                       24|                      0|                   2|     2|       1|     0|  BB|    PRT|        Direct|              Direct|                0|                     0|                             0|                 D|                 D|              1|  No Deposit| NULL|   NULL|                   0|      Transient|   0.0|                          0|                        2|         Check-Out|    2015-07-26 00:00:00|\n",
            "|City Hotel|          0|        0|             2015|              July|                      30|                       25|                      0|                   1|     2|       1|     0|  BB|    PRT|        Direct|              Direct|                0|                     0|                             0|                 D|                 A|              0|  No Deposit| NULL|   NULL|                   0|      Transient|   0.0|                          0|                        1|         Check-Out|    2015-07-26 00:00:00|\n",
            "|City Hotel|          0|       84|             2015|              July|                      30|                       25|                      0|                   1|     2|       1|     0|  BB|    PRT|     Online TA|               TA/TO|                0|                     0|                             0|                 A|                 D|              0|  No Deposit|    8|   NULL|                   0|      Transient|  94.0|                          0|                        2|         Check-Out|    2015-07-26 00:00:00|\n",
            "|City Hotel|          0|       74|             2015|              July|                      31|                       27|                      3|                   7|     2|       1|     0|  BB|    GBR|     Online TA|               TA/TO|                0|                     0|                             0|                 A|                 E|              0|  No Deposit|    7|   NULL|                   0|      Transient|  69.4|                          0|                        0|         Check-Out|    2015-08-06 00:00:00|\n",
            "|City Hotel|          0|       75|             2015|              July|                      31|                       28|                      0|                   3|     2|       1|     0|  BB|    ROU|     Online TA|               TA/TO|                0|                     0|                             0|                 A|                 D|              0|  No Deposit|    9|   NULL|                   0|      Transient| 91.38|                          0|                        0|         Check-Out|    2015-07-31 00:00:00|\n",
            "|City Hotel|          0|      122|             2015|              July|                      31|                       29|                      0|                   3|     2|       1|     0|  BB|    PRT|     Online TA|               TA/TO|                0|                     0|                             0|                 A|                 A|              1|  No Deposit|    9|   NULL|                   0|Transient-Party|  76.5|                          0|                        1|         Check-Out|    2015-08-01 00:00:00|\n",
            "|City Hotel|          1|      106|             2015|              July|                      31|                       29|                      2|                   5|     2|       1|     0|  BB|    PRT|     Online TA|               TA/TO|                0|                     0|                             0|                 A|                 A|              0|  No Deposit|    9|   NULL|                   0|      Transient|106.75|                          0|                        2|          Canceled|    2015-06-03 00:00:00|\n",
            "|City Hotel|          0|       80|             2015|              July|                      31|                       31|                      2|                   7|     2|       1|     0|  BB|    PRT|     Online TA|               TA/TO|                0|                     0|                             0|                 A|                 D|              0|  No Deposit|   15|   NULL|                   0|Transient-Party| 75.79|                          0|                        1|         Check-Out|    2015-08-09 00:00:00|\n",
            "|City Hotel|          0|      117|             2015|            August|                      31|                        1|                      2|                   1|     1|       1|     0|  HB|    ITA| Offline TA/TO|               TA/TO|                0|                     0|                             0|                 B|                 B|              2|  No Deposit|   17|   NULL|                   0|Transient-Party| 80.75|                          0|                        1|         Check-Out|    2015-08-04 00:00:00|\n",
            "|City Hotel|          0|        6|             2015|            August|                      32|                        3|                      1|                   0|     1|       2|     0|  BB|    PRT|        Direct|              Direct|                0|                     0|                             0|                 B|                 B|              0|  No Deposit| NULL|   NULL|                   0|      Transient|  75.0|                          1|                        1|         Check-Out|    2015-08-04 00:00:00|\n",
            "|City Hotel|          0|        7|             2015|            August|                      32|                        3|                      1|                   2|     2|       1|     1|  BB|    PRT| Complementary|              Direct|                0|                     0|                             0|                 F|                 F|              0|  No Deposit| NULL|   NULL|                   0|      Transient|   0.0|                          0|                        2|         Check-Out|    2015-08-06 00:00:00|\n",
            "|City Hotel|          0|      135|             2015|            August|                      32|                        5|                      0|                   3|     2|       1|     0|  BB|    IRL|        Direct|              Direct|                0|                     0|                             0|                 B|                 E|              2|  No Deposit|   14|   NULL|                   0|Transient-Party|  76.5|                          0|                        2|         Check-Out|    2015-08-08 00:00:00|\n",
            "|City Hotel|          0|       92|             2015|            August|                      32|                        6|                      0|                   3|     2|       1|     0|  BB|    FRA| Offline TA/TO|               TA/TO|                0|                     0|                             0|                 A|                 D|              0|  No Deposit|   13|   NULL|                   0|Transient-Party| 76.08|                          0|                        2|         Check-Out|    2015-08-09 00:00:00|\n",
            "|City Hotel|          0|        0|             2015|            August|                      32|                        7|                      0|                   2|     2|       2|     0|  SC|    POL|     Online TA|               TA/TO|                0|                     0|                             0|                 F|                 F|              0|  No Deposit|    9|   NULL|                   0|       Contract| 153.0|                          0|                        1|         Check-Out|    2015-08-09 00:00:00|\n",
            "|City Hotel|          0|        0|             2015|            August|                      32|                        8|                      0|                   1|     1|       2|     0|  BB|    PRT|     Online TA|               TA/TO|                0|                     0|                             0|                 F|                 F|              1|  No Deposit|    9|   NULL|                   0|      Transient| 153.0|                          0|                        0|         Check-Out|    2015-08-09 00:00:00|\n",
            "|City Hotel|          0|      128|             2015|            August|                      32|                        8|                      1|                   1|     2|       1|     0|  BB|    FRA|     Online TA|               TA/TO|                0|                     0|                             0|                 A|                 D|              0|  No Deposit| NULL|   NULL|                   0|Transient-Party|  76.5|                          0|                        2|         Check-Out|    2015-08-10 00:00:00|\n",
            "+----------+-----------+---------+-----------------+------------------+------------------------+-------------------------+-----------------------+--------------------+------+--------+------+----+-------+--------------+--------------------+-----------------+----------------------+------------------------------+------------------+------------------+---------------+------------+-----+-------+--------------------+---------------+------+---------------------------+-------------------------+------------------+-----------------------+\n",
            "only showing top 20 rows\n",
            "\n",
            "+---------------+\n",
            "|count(children)|\n",
            "+---------------+\n",
            "|           3484|\n",
            "+---------------+\n",
            "\n",
            "+---------------+\n",
            "|count(children)|\n",
            "+---------------+\n",
            "|            145|\n",
            "+---------------+\n",
            "\n"
          ],
          "name": "stdout"
        }
      ]
    },
    {
      "cell_type": "markdown",
      "metadata": {
        "id": "e9LfB340Ty3J",
        "colab_type": "text"
      },
      "source": [
        "**4. VISUALISASI DATA**"
      ]
    },
    {
      "cell_type": "code",
      "metadata": {
        "id": "6wcUqQSPT3_Y",
        "colab_type": "code",
        "colab": {
          "base_uri": "https://localhost:8080/",
          "height": 353
        },
        "outputId": "52cb493b-034a-4138-b1ee-6fcdbcb5be4d"
      },
      "source": [
        "# plotting data\n",
        "fig, axes = plt.subplots()\n",
        "\n",
        "# jumlah pengunjung Hotel\n",
        "fig.set_size_inches(7, 5)\n",
        "\n",
        "plt.title('Perbandingan jumlah pengunjung')\n",
        "plt.pie([ResortHotel.count(), cityHotel.count()], labels=['Resort Hotel', ' City Hotel'], autopct='%1.1f%%', shadow=True, startangle=40, colors=['#6ebfb5', 'red'])\n",
        "print('\\n')"
      ],
      "execution_count": 73,
      "outputs": [
        {
          "output_type": "stream",
          "text": [
            "\n",
            "\n"
          ],
          "name": "stdout"
        },
        {
          "output_type": "display_data",
          "data": {
            "image/png": "[encoded data removed]",
            "text/plain": [
              "<Figure size 504x360 with 1 Axes>"
            ]
          },
          "metadata": {
            "tags": []
          }
        }
      ]
    }
  ]
}